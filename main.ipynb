{
 "cells": [
  {
   "cell_type": "markdown",
   "metadata": {},
   "source": [
    "# TET4205 - Power system analysis 2 course project; Load flow studies\n"
   ]
  },
  {
   "cell_type": "markdown",
   "metadata": {},
   "source": [
    "### Information:\n",
    "<small> This jupyter notebook file run all the functions for the four methods doing the load flow study. \n",
    "\n",
    "In order to run, these are the files that must be in same directory: \n",
    "- functions.py\n",
    "- NRLF.py\n",
    "- DLF.py\n",
    "- DCPF.py\n",
    "- FDLF.py\n",
    "- Data_Test_system_2.xlsx or Data_Olav&Sjur_sys.xlsx\n",
    "\n",
    "\n",
    "\n",
    "\n",
    "</small>\n",
    "\n",
    "\n"
   ]
  },
  {
   "cell_type": "code",
   "execution_count": 1,
   "metadata": {},
   "outputs": [],
   "source": [
    "'''\n",
    "This cell imports necessary functions and libraries for the analysis process.\n",
    "'''\n",
    "from functions import *\n",
    "import pandas as pd\n",
    "import numpy as np\n",
    "import sympy as sp  \n",
    "import cmath\n",
    "import math"
   ]
  },
  {
   "cell_type": "markdown",
   "metadata": {},
   "source": [
    "<small> \n",
    "\n",
    "##### __Format for data files:__\n",
    "\n",
    "**Line data:** \n",
    "Unknown values for a line is set to zero. Global S and V base values must be insterted.  If there is a transformer between lines, value must be set to 1. Then transformer data must be inserted; local reactance pu value X [pu loca], MVA rating, primary and secondary voltage. This is to transform the transformer reactance to global pu. \n",
    "\n",
    "**Bus data:** \n",
    "Unknown values are set to zero. Unit must be set to either SI or Pu. Wheter the power injections and loads are in SI or Pu. Voltage magnitudes must be inserted in pu values. A section in the excel sheet calculates the pu values and checks line data sheets if there is a transformer. This section gives out buses where there is a transformer, and calculates the new global pu value automatically. This global pu value must be set in the voltage magnitude column __manually__!\n",
    "\n",
    "\n",
    "\n",
    "Parameters like max_iterations and tolerance are used to control convergence in the analysis. You can adjust these values as per your requirements.\n",
    "\n",
    "Default values:\n",
    "- tolerance: 1e-10\n",
    "- max_iterations: 30\n",
    "\n",
    "\n",
    "Set printLaTeX to True if you want to generate LaTeX printouts; otherwise, leave it as False.\n",
    "\n",
    "Following cell allows you to choose the data file (Excel) and sheets (line_data and bus_data) you want to use for analysis. \n",
    "\n",
    "You can modify the file names \"Data_Olav&Sjur_sys.xlsx\" or \"Data_Test_system_2.xlsx\" and sheet names \"Line data (pu)\" and \"Bus data\" as needed. Main.ipynb must be saved and restart kernel after changing file. \n",
    "\n",
    "\n",
    "   </small>"
   ]
  },
  {
   "cell_type": "code",
   "execution_count": 2,
   "metadata": {},
   "outputs": [],
   "source": [
    "\n",
    "### Files:  = \"Data_Test_system_2.xlsx\" \"Data_Olav&Sjur_sys.xlsx\" ###\n",
    "file = \"Data_Test_system_2.xlsx\"\n",
    "line_data = \"Line data\"\n",
    "bus_data = \"Bus data\"\n",
    "\n",
    "max_iterations = 30 # Set a maximum number of iterations\n",
    "tolerance = 1e-10   # Set a convergence tolerance\n",
    "\n",
    "printLaTeX = False\n",
    "\n"
   ]
  },
  {
   "cell_type": "markdown",
   "metadata": {},
   "source": [
    "## Newton-Raphson load flow solution:\n"
   ]
  },
  {
   "cell_type": "code",
   "execution_count": 3,
   "metadata": {},
   "outputs": [
    {
     "name": "stdout",
     "output_type": "stream",
     "text": [
      "NRLF converged in 4 iterations and took 3.86 seconds.\n",
      "\n",
      "-------------- Bus Data (PU) ----------------\n",
      "Bus No. voltage [pu] δ [deg] P [pu] Q [pu]\n",
      "      1        1.000   0.000  0.721  0.544\n",
      "      2        1.000   6.290  1.630  0.186\n",
      "      3        1.000   4.500  0.850  0.043\n",
      "      4        1.000  -0.016  0.000  0.000\n",
      "      5        0.961  -1.847 -1.250 -0.500\n",
      "      6        0.975  -1.484 -0.900 -0.300\n",
      "      7        1.000   6.268  0.000  0.000\n",
      "      8        0.983   3.153 -1.000 -0.350\n",
      "      9        1.000   4.488  0.000  0.000\n",
      "Totals:            -       -  0.051 -0.378\n",
      "\n",
      "-------------- Bus Data (SI) ----------------\n",
      "Bus No. voltage [kV] δ [deg]   P [MW] Q [MVAr]\n",
      "      1      230.000   0.000   72.097   54.414\n",
      "      2      230.000   6.290  163.000   18.566\n",
      "      3      230.000   4.500   85.000    4.258\n",
      "      4      229.952  -0.016    0.000    0.000\n",
      "      5      221.049  -1.847 -125.000  -50.000\n",
      "      6      224.270  -1.484  -90.000  -30.000\n",
      "      7      229.990   6.268    0.000    0.000\n",
      "      8      226.017   3.153 -100.000  -35.000\n",
      "      9      229.998   4.488    0.000    0.000\n",
      "Totals:            -       -    5.097  -37.762\n",
      "\n",
      "------------ Branch Data (PU) ---------------\n",
      "Branch No. From Bus To Bus P-ij [pu] Q-ij [pu] P-ji [pu] Q-ji [pu] P-loss [pu] Q-loss [pu]\n",
      "         1        1      4     0.721     0.544     0.721     0.544       0.000       0.000\n",
      "         2        2      7     1.630     0.186     1.630     0.185      -0.000       0.001\n",
      "         3        3      9     0.850     0.043     0.850     0.042      -0.000       0.000\n",
      "         4        7      8     0.762     0.170     0.757     0.126       0.005       0.044\n",
      "         5        8      9    -0.243    -0.137    -0.244    -0.145       0.001       0.008\n",
      "         6        7      5     0.868     0.129     0.844     0.005       0.025       0.124\n",
      "         7        9      6     0.606     0.039     0.591    -0.024       0.014       0.063\n",
      "         8        5      4    -0.406    -0.384    -0.410    -0.413       0.003       0.029\n",
      "         9        6      4    -0.309    -0.201    -0.311    -0.214       0.002       0.013\n",
      "   Totals:        -      -         -         -         -         -       0.051       0.282\n",
      "\n",
      "------------ Branch Data (SI) ---------------\n",
      "Branch No. From Bus To Bus P-ij [MW] Q-ij [MVAr] P-ji [MW] Q-ji [MVAr] P-loss [MW] Q-loss [MVAr]\n",
      "         1        1      4    72.097      54.414    72.097      54.383       0.000         0.031\n",
      "         2        2      7   163.000      18.566   163.000      18.503      -0.000         0.063\n",
      "         3        3      9    85.000       4.258    85.000       4.240      -0.000         0.018\n",
      "         4        7      8    76.179      17.012    75.661      12.625       0.518         4.387\n",
      "         5        8      9   -24.339     -13.733   -24.435     -14.548       0.096         0.815\n",
      "         6        7      5    86.821      12.865    84.356       0.462       2.465        12.404\n",
      "         7        9      6    60.565       3.867    59.128      -2.395       1.436         6.261\n",
      "         8        5      4   -40.644     -38.408   -40.983     -41.285       0.339         2.878\n",
      "         9        6      4   -30.872     -20.129   -31.114     -21.444       0.243         1.314\n",
      "   Totals:        -      -         -           -         -           -       5.097        28.171\n"
     ]
    }
   ],
   "source": [
    "from NRLF import *\n",
    "NR_load_flow(file,line_data,bus_data,tolerance, max_iterations,printLaTeX)\n",
    "\n",
    "\n"
   ]
  },
  {
   "cell_type": "markdown",
   "metadata": {},
   "source": [
    "## Decoupled load flow solution:"
   ]
  },
  {
   "cell_type": "code",
   "execution_count": 4,
   "metadata": {},
   "outputs": [
    {
     "name": "stdout",
     "output_type": "stream",
     "text": [
      "DLF converged in 14 iterations and took 5.95 seconds.\n",
      "\n",
      "-------------- Bus Data (PU) ----------------\n",
      "Bus No. voltage [pu] δ [deg] P [pu] Q [pu]\n",
      "      1        1.000   0.000  0.721  0.544\n",
      "      2        1.000   6.290  1.630  0.186\n",
      "      3        1.000   4.500  0.850  0.043\n",
      "      4        1.000  -0.016  0.000  0.000\n",
      "      5        0.961  -1.847 -1.250 -0.500\n",
      "      6        0.975  -1.484 -0.900 -0.300\n",
      "      7        1.000   6.268  0.000  0.000\n",
      "      8        0.983   3.153 -1.000 -0.350\n",
      "      9        1.000   4.488  0.000  0.000\n",
      "Totals:            -       -  0.051 -0.378\n",
      "\n",
      "-------------- Bus Data (SI) ----------------\n",
      "Bus No. voltage [kV] δ [deg]   P [MW] Q [MVAr]\n",
      "      1      230.000   0.000   72.097   54.414\n",
      "      2      230.000   6.290  163.000   18.566\n",
      "      3      230.000   4.500   85.000    4.258\n",
      "      4      229.952  -0.016    0.000    0.000\n",
      "      5      221.049  -1.847 -125.000  -50.000\n",
      "      6      224.270  -1.484  -90.000  -30.000\n",
      "      7      229.990   6.268    0.000    0.000\n",
      "      8      226.017   3.153 -100.000  -35.000\n",
      "      9      229.998   4.488    0.000    0.000\n",
      "Totals:            -       -    5.097  -37.762\n",
      "\n",
      "------------ Branch Data (PU) ---------------\n",
      "Branch No. From Bus To Bus P-ij [pu] Q-ij [pu] P-ji [pu] Q-ji [pu] P-loss [pu] Q-loss [pu]\n",
      "         1        1      4     0.721     0.544     0.721     0.544       0.000       0.000\n",
      "         2        2      7     1.630     0.186     1.630     0.185       0.000       0.001\n",
      "         3        3      9     0.850     0.043     0.850     0.042       0.000       0.000\n",
      "         4        7      8     0.762     0.170     0.757     0.126       0.005       0.044\n",
      "         5        8      9    -0.243    -0.137    -0.244    -0.145       0.001       0.008\n",
      "         6        7      5     0.868     0.129     0.844     0.005       0.025       0.124\n",
      "         7        9      6     0.606     0.039     0.591    -0.024       0.014       0.063\n",
      "         8        5      4    -0.406    -0.384    -0.410    -0.413       0.003       0.029\n",
      "         9        6      4    -0.309    -0.201    -0.311    -0.214       0.002       0.013\n",
      "   Totals:        -      -         -         -         -         -       0.051       0.282\n",
      "\n",
      "------------ Branch Data (SI) ---------------\n",
      "Branch No. From Bus To Bus P-ij [MW] Q-ij [MVAr] P-ji [MW] Q-ji [MVAr] P-loss [MW] Q-loss [MVAr]\n",
      "         1        1      4    72.097      54.414    72.097      54.383       0.000         0.031\n",
      "         2        2      7   163.000      18.566   163.000      18.503       0.000         0.063\n",
      "         3        3      9    85.000       4.258    85.000       4.240       0.000         0.018\n",
      "         4        7      8    76.179      17.012    75.661      12.625       0.518         4.387\n",
      "         5        8      9   -24.339     -13.733   -24.435     -14.548       0.096         0.815\n",
      "         6        7      5    86.821      12.865    84.356       0.462       2.465        12.404\n",
      "         7        9      6    60.565       3.867    59.128      -2.395       1.436         6.261\n",
      "         8        5      4   -40.644     -38.408   -40.983     -41.285       0.339         2.878\n",
      "         9        6      4   -30.872     -20.129   -31.114     -21.444       0.243         1.314\n",
      "   Totals:        -      -         -           -         -           -       5.097        28.171\n"
     ]
    }
   ],
   "source": [
    "from DLF import *\n",
    "Decoupled_load_flow(file,line_data,bus_data,tolerance, max_iterations,printLaTeX)"
   ]
  },
  {
   "cell_type": "markdown",
   "metadata": {},
   "source": [
    "## DC Load Flow solution: \n",
    "\n"
   ]
  },
  {
   "cell_type": "code",
   "execution_count": 5,
   "metadata": {},
   "outputs": [
    {
     "name": "stdout",
     "output_type": "stream",
     "text": [
      "\n",
      "-------------- Bus Data (PU) ----------------\n",
      "Bus No. voltage [pu] δ [deg] P [pu] Q [pu]\n",
      "      1        1.000   0.000  0.670  0.000\n",
      "      2        1.000   6.177  1.630  0.000\n",
      "      3        1.000   4.415  0.850  0.000\n",
      "      4        1.000  -0.015  0.000  0.000\n",
      "      5        1.000  -1.867 -1.250  0.000\n",
      "      6        1.000  -1.542 -0.900  0.000\n",
      "      7        1.000   6.155  0.000  0.000\n",
      "      8        1.000   3.019 -1.000  0.000\n",
      "      9        1.000   4.403  0.000  0.000\n",
      "Totals:            -       - -0.000  0.000\n",
      "\n",
      "-------------- Bus Data (SI) ----------------\n",
      "Bus No. voltage [kV] δ [deg]   P [MW] Q [MVAr]\n",
      "      1      230.000   0.000   67.000    0.000\n",
      "      2      230.000   6.177  163.000    0.000\n",
      "      3      230.000   4.415   85.000    0.000\n",
      "      4      230.000  -0.015    0.000    0.000\n",
      "      5      230.000  -1.867 -125.000    0.000\n",
      "      6      230.000  -1.542  -90.000    0.000\n",
      "      7      230.000   6.155    0.000    0.000\n",
      "      8      230.000   3.019 -100.000    0.000\n",
      "      9      230.000   4.403    0.000    0.000\n",
      "Totals:            -       -   -0.000    0.000\n",
      "\n",
      "------------ Branch Data (PU) ---------------\n",
      "Branch No. From Bus To Bus P-ij [pu] Q-ij [pu] P-ji [pu] Q-ji [pu] P-loss [pu] Q-loss [pu]\n",
      "         1        1      4      0.67      0.00     -0.67      0.00        0.00        0.00\n",
      "         2        2      7      1.63      0.00     -1.63      0.00        0.00        0.00\n",
      "         3        3      9      0.85      0.00     -0.85      0.00        0.00        0.00\n",
      "         4        7      8      0.76      0.00     -0.76      0.00        0.00        0.00\n",
      "         5        8      9     -0.24      0.00      0.24      0.00        0.00        0.00\n",
      "         6        7      5      0.87      0.00     -0.87      0.00        0.00        0.00\n",
      "         7        9      6      0.61      0.00     -0.61      0.00        0.00        0.00\n",
      "         8        5      4     -0.38      0.00      0.38      0.00        0.00        0.00\n",
      "         9        6      4     -0.29      0.00      0.29      0.00        0.00        0.00\n",
      "   Totals:        -      -         -         -         -         -        0.00        0.00\n",
      "\n",
      "------------ Branch Data (SI) ---------------\n",
      "Branch No. From Bus To Bus P-ij [MW] Q-ij [MVAr] P-ji [MW] Q-ji [MVAr] P-loss [MW] Q-loss [MVAr]\n",
      "         1        1      4     67.00        0.00    -67.00        0.00        0.00          0.00\n",
      "         2        2      7    163.00        0.00   -163.00        0.00        0.00          0.00\n",
      "         3        3      9     85.00        0.00    -85.00        0.00        0.00          0.00\n",
      "         4        7      8     76.03        0.00    -76.03        0.00        0.00          0.00\n",
      "         5        8      9    -23.97        0.00     23.97        0.00        0.00          0.00\n",
      "         6        7      5     86.97        0.00    -86.97        0.00        0.00          0.00\n",
      "         7        9      6     61.03        0.00    -61.03        0.00        0.00          0.00\n",
      "         8        5      4    -38.03        0.00     38.03        0.00        0.00          0.00\n",
      "         9        6      4    -28.97        0.00     28.97        0.00        0.00          0.00\n",
      "   Totals:        -      -         -           -         -           -        0.00          0.00\n"
     ]
    }
   ],
   "source": [
    "from DCPF import *\n",
    "DC_power_flow(file,bus_data,line_data,printLaTeX)"
   ]
  },
  {
   "cell_type": "markdown",
   "metadata": {},
   "source": [
    "## Fast Decoupled Load Flow\n"
   ]
  },
  {
   "cell_type": "code",
   "execution_count": 6,
   "metadata": {},
   "outputs": [
    {
     "name": "stdout",
     "output_type": "stream",
     "text": [
      "FDLF did not converge in 30 iterations\n"
     ]
    }
   ],
   "source": [
    "from FDLF import *\n",
    "Fast_Decoupled_load_flow(file,line_data,bus_data,tolerance, max_iterations,printLaTeX)"
   ]
  }
 ],
 "metadata": {
  "kernelspec": {
   "display_name": "Python 3",
   "language": "python",
   "name": "python3"
  },
  "language_info": {
   "codemirror_mode": {
    "name": "ipython",
    "version": 3
   },
   "file_extension": ".py",
   "mimetype": "text/x-python",
   "name": "python",
   "nbconvert_exporter": "python",
   "pygments_lexer": "ipython3",
   "version": "3.10.13"
  },
  "orig_nbformat": 4
 },
 "nbformat": 4,
 "nbformat_minor": 2
}
